{
 "cells": [
  {
   "cell_type": "markdown",
   "id": "08fac9b2-8e5f-43cd-8448-14e9f4cf43d4",
   "metadata": {},
   "source": [
    "1 Answer-\n",
    "    (a) s=\"Ajay\"\n",
    "    (b)  l=[3,4,5,1,2,\"Ajay\"]\n",
    "    (c)  f=33.54\n",
    "    (d)  tuple= (\"apple\",\"banana\",\"grapes\")\n",
    "    \n",
    "  "
   ]
  },
  {
   "cell_type": "markdown",
   "id": "f75946c8-d25a-48f3-a67c-a8502f3e7a7d",
   "metadata": {},
   "source": [
    "2 Answer\n",
    "   (1) str\n",
    "   (2) invalid\n",
    "   (3) list\n",
    "   (4) int"
   ]
  },
  {
   "cell_type": "markdown",
   "id": "627727c0-a242-4698-b291-4bcbdd46b86f",
   "metadata": {},
   "source": [
    "3 Answer\n",
    "   (1) c=25/5 - it used divide operations\n",
    "   (2) d=25%5 - it use remaining reminder operations\n",
    "   (3) e= 44//4 - it's use intger division\n",
    "   (4) f=3**4  - it use exponent power\n",
    "   "
   ]
  },
  {
   "cell_type": "code",
   "execution_count": 3,
   "id": "0d0cd2e8-0cac-4f4a-b50b-de13af55508d",
   "metadata": {},
   "outputs": [
    {
     "name": "stdout",
     "output_type": "stream",
     "text": [
      "6\n",
      "<class 'str'>\n",
      "<class 'str'>\n",
      "<class 'str'>\n",
      "<class 'int'>\n",
      "<class 'int'>\n",
      "<class 'int'>\n"
     ]
    }
   ],
   "source": [
    "# 4th answer\n",
    "le =[\"ajay\",\"ki\",\"kunwar\",78,900,8777]\n",
    "length= len(le)\n",
    "i=0\n",
    "print(length)\n",
    "while i<length:\n",
    "      print(type(le[i]))\n",
    "      i=i+1"
   ]
  },
  {
   "cell_type": "code",
   "execution_count": 6,
   "id": "e951cf7c-c6fd-4581-aada-7e5ce1dc8657",
   "metadata": {},
   "outputs": [
    {
     "name": "stdout",
     "output_type": "stream",
     "text": [
      "78.0\n"
     ]
    }
   ],
   "source": [
    "#5th Answer\n",
    "a=234\n",
    "b=3\n",
    "if a%b==0 :\n",
    "    print(a/b)\n"
   ]
  },
  {
   "cell_type": "code",
   "execution_count": 15,
   "id": "e74126f9-d591-466e-9bce-919f11aa3c08",
   "metadata": {},
   "outputs": [
    {
     "name": "stdout",
     "output_type": "stream",
     "text": [
      "66\n",
      "24\n",
      "21\n",
      "45\n",
      "15\n",
      "6663\n",
      "72\n",
      "96\n",
      "321\n"
     ]
    }
   ],
   "source": [
    "# 6 answer\n",
    "le=[25,66,98,24,28,21,45,15,6663,11,10,72,96,321]\n",
    "lenght= len(le)\n",
    "i=0\n",
    "while i<lenght :\n",
    "    if le[i]%3==0 :\n",
    "        print(le[i])\n",
    "    i=i+1\n",
    "\n"
   ]
  },
  {
   "cell_type": "markdown",
   "id": "c96f6fef-ab77-46d0-9811-cabc04fea110",
   "metadata": {},
   "source": [
    "#7 th answer\n",
    "mutuable object means we can change the value of object\n",
    "and immutuaable means we can't change the value of object"
   ]
  }
 ],
 "metadata": {
  "kernelspec": {
   "display_name": "Python 3 (ipykernel)",
   "language": "python",
   "name": "python3"
  },
  "language_info": {
   "codemirror_mode": {
    "name": "ipython",
    "version": 3
   },
   "file_extension": ".py",
   "mimetype": "text/x-python",
   "name": "python",
   "nbconvert_exporter": "python",
   "pygments_lexer": "ipython3",
   "version": "3.10.8"
  }
 },
 "nbformat": 4,
 "nbformat_minor": 5
}
